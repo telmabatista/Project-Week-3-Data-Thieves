{
 "cells": [
  {
   "cell_type": "code",
   "execution_count": 1,
   "metadata": {},
   "outputs": [],
   "source": [
    "import pandas as pd\n",
    "import numpy as np\n",
    "import matplotlib.pyplot as plt\n",
    "import seaborn as sb\n",
    "import math\n",
    "import datetime\n",
    "from docx import Document\n",
    "from docxtpl import DocxTemplate, InlineImage\n",
    "import sys\n",
    "import os\n",
    "from docx.shared import Mm, Inches, Pt"
   ]
  },
  {
   "cell_type": "code",
   "execution_count": 2,
   "metadata": {},
   "outputs": [
    {
     "name": "stdout",
     "output_type": "stream",
     "text": [
      "Input one of the following Country Codes to generate report - US, NZ, MX, GB, IE, CA: NZ\n",
      "Email to send report: telmabatista94@gmail.com\n"
     ]
    }
   ],
   "source": [
    "c = input(\"Input one of the following Country Codes to generate report - US, NZ, MX, GB, IE, CA: \")\n",
    "\n",
    "email_receiver = input(\"Email to send report: \")"
   ]
  },
  {
   "cell_type": "markdown",
   "metadata": {},
   "source": [
    "## Data Visualization"
   ]
  },
  {
   "cell_type": "code",
   "execution_count": 3,
   "metadata": {},
   "outputs": [
    {
     "data": {
      "text/html": [
       "<div>\n",
       "<style scoped>\n",
       "    .dataframe tbody tr th:only-of-type {\n",
       "        vertical-align: middle;\n",
       "    }\n",
       "\n",
       "    .dataframe tbody tr th {\n",
       "        vertical-align: top;\n",
       "    }\n",
       "\n",
       "    .dataframe thead th {\n",
       "        text-align: right;\n",
       "    }\n",
       "</style>\n",
       "<table border=\"1\" class=\"dataframe\">\n",
       "  <thead>\n",
       "    <tr style=\"text-align: right;\">\n",
       "      <th></th>\n",
       "      <th>name</th>\n",
       "      <th>type</th>\n",
       "      <th>id</th>\n",
       "      <th>url</th>\n",
       "      <th>locale</th>\n",
       "      <th>date</th>\n",
       "      <th>date_status</th>\n",
       "      <th>segment</th>\n",
       "      <th>genre</th>\n",
       "      <th>subgenre</th>\n",
       "      <th>...</th>\n",
       "      <th>venue_name</th>\n",
       "      <th>venue_type</th>\n",
       "      <th>venue_timezone</th>\n",
       "      <th>city</th>\n",
       "      <th>country</th>\n",
       "      <th>country_code</th>\n",
       "      <th>min_price_eur</th>\n",
       "      <th>max_price_eur</th>\n",
       "      <th>average_price_eur</th>\n",
       "      <th>month</th>\n",
       "    </tr>\n",
       "  </thead>\n",
       "  <tbody>\n",
       "    <tr>\n",
       "      <th>1000</th>\n",
       "      <td>Harry Styles</td>\n",
       "      <td>event</td>\n",
       "      <td>1Ae8ZpkGklXDV1y</td>\n",
       "      <td>http://www.ticketmaster.co.nz/harry-styles-auc...</td>\n",
       "      <td>en-us</td>\n",
       "      <td>2020-11-23</td>\n",
       "      <td>onsale</td>\n",
       "      <td>Music</td>\n",
       "      <td>Pop</td>\n",
       "      <td>Pop</td>\n",
       "      <td>...</td>\n",
       "      <td>Spark Arena</td>\n",
       "      <td>venue</td>\n",
       "      <td>Pacific/Auckland</td>\n",
       "      <td>Auckland</td>\n",
       "      <td>New Zealand</td>\n",
       "      <td>NZ</td>\n",
       "      <td>54.849916</td>\n",
       "      <td>212.587526</td>\n",
       "      <td>133.718721</td>\n",
       "      <td>11</td>\n",
       "    </tr>\n",
       "    <tr>\n",
       "      <th>1001</th>\n",
       "      <td>Backstreet Boys: DNA World Tour</td>\n",
       "      <td>event</td>\n",
       "      <td>1Ae8Z4wGklYHN-Z</td>\n",
       "      <td>https://www.ticketmaster.co.nz/backstreet-boys...</td>\n",
       "      <td>en-us</td>\n",
       "      <td>2020-05-16</td>\n",
       "      <td>onsale</td>\n",
       "      <td>Music</td>\n",
       "      <td>Rock</td>\n",
       "      <td>Pop</td>\n",
       "      <td>...</td>\n",
       "      <td>Spark Arena</td>\n",
       "      <td>venue</td>\n",
       "      <td>Pacific/Auckland</td>\n",
       "      <td>Auckland</td>\n",
       "      <td>New Zealand</td>\n",
       "      <td>NZ</td>\n",
       "      <td>54.225696</td>\n",
       "      <td>276.773598</td>\n",
       "      <td>165.499647</td>\n",
       "      <td>5</td>\n",
       "    </tr>\n",
       "    <tr>\n",
       "      <th>1002</th>\n",
       "      <td>Backstreet Boys: DNA World Tour</td>\n",
       "      <td>event</td>\n",
       "      <td>1Ae8Z4wGkUZsv58</td>\n",
       "      <td>https://www.ticketmaster.co.nz/backstreet-boys...</td>\n",
       "      <td>en-us</td>\n",
       "      <td>2020-05-17</td>\n",
       "      <td>onsale</td>\n",
       "      <td>Music</td>\n",
       "      <td>Rock</td>\n",
       "      <td>Pop</td>\n",
       "      <td>...</td>\n",
       "      <td>Spark Arena</td>\n",
       "      <td>venue</td>\n",
       "      <td>Pacific/Auckland</td>\n",
       "      <td>Auckland</td>\n",
       "      <td>New Zealand</td>\n",
       "      <td>NZ</td>\n",
       "      <td>54.225696</td>\n",
       "      <td>276.773598</td>\n",
       "      <td>165.499647</td>\n",
       "      <td>5</td>\n",
       "    </tr>\n",
       "    <tr>\n",
       "      <th>1003</th>\n",
       "      <td>Louis Tomlinson</td>\n",
       "      <td>event</td>\n",
       "      <td>1A0ZAq9GkdtmKp-</td>\n",
       "      <td>https://www.ticketmaster.co.nz/louis-tomlinson...</td>\n",
       "      <td>en-us</td>\n",
       "      <td>2020-04-23</td>\n",
       "      <td>onsale</td>\n",
       "      <td>Music</td>\n",
       "      <td>Rock</td>\n",
       "      <td>Pop</td>\n",
       "      <td>...</td>\n",
       "      <td>Shed 10, Queens Wharf</td>\n",
       "      <td>venue</td>\n",
       "      <td>Pacific/Auckland</td>\n",
       "      <td>Auckland</td>\n",
       "      <td>New Zealand</td>\n",
       "      <td>NZ</td>\n",
       "      <td>46.843619</td>\n",
       "      <td>46.843619</td>\n",
       "      <td>46.843619</td>\n",
       "      <td>4</td>\n",
       "    </tr>\n",
       "    <tr>\n",
       "      <th>1004</th>\n",
       "      <td>Elton John - Farewell Yellow Brick Road</td>\n",
       "      <td>event</td>\n",
       "      <td>1Ae8Z40GkTn47rb</td>\n",
       "      <td>https://www.ticketmaster.co.nz/elton-john-fare...</td>\n",
       "      <td>en-us</td>\n",
       "      <td>2021-01-15</td>\n",
       "      <td>onsale</td>\n",
       "      <td>Music</td>\n",
       "      <td>Rock</td>\n",
       "      <td>Pop</td>\n",
       "      <td>...</td>\n",
       "      <td>Mt Smart Stadium</td>\n",
       "      <td>venue</td>\n",
       "      <td>Pacific/Auckland</td>\n",
       "      <td>Auckland</td>\n",
       "      <td>New Zealand</td>\n",
       "      <td>NZ</td>\n",
       "      <td>56.006079</td>\n",
       "      <td>239.249851</td>\n",
       "      <td>147.627965</td>\n",
       "      <td>1</td>\n",
       "    </tr>\n",
       "  </tbody>\n",
       "</table>\n",
       "<p>5 rows × 26 columns</p>\n",
       "</div>"
      ],
      "text/plain": [
       "                                         name   type               id  \\\n",
       "1000                             Harry Styles  event  1Ae8ZpkGklXDV1y   \n",
       "1001          Backstreet Boys: DNA World Tour  event  1Ae8Z4wGklYHN-Z   \n",
       "1002          Backstreet Boys: DNA World Tour  event  1Ae8Z4wGkUZsv58   \n",
       "1003                          Louis Tomlinson  event  1A0ZAq9GkdtmKp-   \n",
       "1004  Elton John - Farewell Yellow Brick Road  event  1Ae8Z40GkTn47rb   \n",
       "\n",
       "                                                    url locale        date  \\\n",
       "1000  http://www.ticketmaster.co.nz/harry-styles-auc...  en-us  2020-11-23   \n",
       "1001  https://www.ticketmaster.co.nz/backstreet-boys...  en-us  2020-05-16   \n",
       "1002  https://www.ticketmaster.co.nz/backstreet-boys...  en-us  2020-05-17   \n",
       "1003  https://www.ticketmaster.co.nz/louis-tomlinson...  en-us  2020-04-23   \n",
       "1004  https://www.ticketmaster.co.nz/elton-john-fare...  en-us  2021-01-15   \n",
       "\n",
       "     date_status segment genre subgenre  ...             venue_name  \\\n",
       "1000      onsale   Music   Pop      Pop  ...            Spark Arena   \n",
       "1001      onsale   Music  Rock      Pop  ...            Spark Arena   \n",
       "1002      onsale   Music  Rock      Pop  ...            Spark Arena   \n",
       "1003      onsale   Music  Rock      Pop  ...  Shed 10, Queens Wharf   \n",
       "1004      onsale   Music  Rock      Pop  ...       Mt Smart Stadium   \n",
       "\n",
       "     venue_type    venue_timezone      city      country  country_code  \\\n",
       "1000      venue  Pacific/Auckland  Auckland  New Zealand            NZ   \n",
       "1001      venue  Pacific/Auckland  Auckland  New Zealand            NZ   \n",
       "1002      venue  Pacific/Auckland  Auckland  New Zealand            NZ   \n",
       "1003      venue  Pacific/Auckland  Auckland  New Zealand            NZ   \n",
       "1004      venue  Pacific/Auckland  Auckland  New Zealand            NZ   \n",
       "\n",
       "     min_price_eur max_price_eur average_price_eur month  \n",
       "1000     54.849916    212.587526        133.718721    11  \n",
       "1001     54.225696    276.773598        165.499647     5  \n",
       "1002     54.225696    276.773598        165.499647     5  \n",
       "1003     46.843619     46.843619         46.843619     4  \n",
       "1004     56.006079    239.249851        147.627965     1  \n",
       "\n",
       "[5 rows x 26 columns]"
      ]
     },
     "execution_count": 3,
     "metadata": {},
     "output_type": "execute_result"
    }
   ],
   "source": [
    "df = pd.read_csv(\"ticket_df.csv\")\n",
    "\n",
    "df.head()\n",
    "\n",
    "df[\"average_price_eur\"] = df[[\"min_price_eur\",\"max_price_eur\"]].mean(axis=1)\n",
    "\n",
    "df[\"month\"] = pd.DatetimeIndex(df[\"date\"]).month\n",
    "\n",
    "\n",
    "df1 = df[df[\"country_code\"]==c]\n",
    "\n",
    "df1.head()"
   ]
  },
  {
   "cell_type": "code",
   "execution_count": 4,
   "metadata": {},
   "outputs": [
    {
     "data": {
      "image/png": "[encoded data removed]",
      "text/plain": [
       "<Figure size 504x576 with 1 Axes>"
      ]
     },
     "metadata": {
      "needs_background": "light"
     },
     "output_type": "display_data"
    }
   ],
   "source": [
    "f, ax = plt.subplots(figsize=(7,8))\n",
    "ax = sb.barplot(x=\"average_price_eur\",y=\"genre\",data=df1, color=\"yellow\")\n",
    "plt.savefig(\"/Users/telmabatista/Documents/Ironhack/Projects/Project3/Project-Week-3-Data-Thieves/your-project/Report/price_per_genre.png\")"
   ]
  },
  {
   "cell_type": "code",
   "execution_count": 5,
   "metadata": {},
   "outputs": [
    {
     "data": {
      "image/png": "[encoded data removed]",
      "text/plain": [
       "<Figure size 432x288 with 1 Axes>"
      ]
     },
     "metadata": {},
     "output_type": "display_data"
    }
   ],
   "source": [
    "sb.set(style=\"whitegrid\")\n",
    "ax = sb.countplot(x=\"segment\",data=df1, color=\"yellow\")\n",
    "plt.savefig(\"/Users/telmabatista/Documents/Ironhack/Projects/Project3/Project-Week-3-Data-Thieves/your-project/Report/events_per_segment.png\",bbox_inches=\"tight\")"
   ]
  },
  {
   "cell_type": "code",
   "execution_count": 6,
   "metadata": {},
   "outputs": [
    {
     "data": {
      "image/png": "[encoded data removed]",
      "text/plain": [
       "<Figure size 432x288 with 1 Axes>"
      ]
     },
     "metadata": {},
     "output_type": "display_data"
    }
   ],
   "source": [
    "sb.set(style=\"whitegrid\")\n",
    "ax = sb.countplot(x=\"segment\", hue=\"date_status\",data=df1, color=\"yellow\")\n",
    "plt.savefig(\"/Users/telmabatista/Documents/Ironhack/Projects/Project3/Project-Week-3-Data-Thieves/your-project/Report/status_per_segment.png\",bbox_inches=\"tight\")"
   ]
  },
  {
   "cell_type": "code",
   "execution_count": 7,
   "metadata": {},
   "outputs": [
    {
     "data": {
      "image/png": "[encoded data removed]",
      "text/plain": [
       "<Figure size 432x288 with 1 Axes>"
      ]
     },
     "metadata": {},
     "output_type": "display_data"
    }
   ],
   "source": [
    "sb.set(style=\"whitegrid\")\n",
    "ax = sb.countplot(x=\"month\",data=df1, color=\"yellow\")\n",
    "plt.savefig(\"/Users/telmabatista/Documents/Ironhack/Projects/Project3/Project-Week-3-Data-Thieves/your-project/Report/events_per_month.png\",bbox_inches=\"tight\")"
   ]
  },
  {
   "cell_type": "markdown",
   "metadata": {},
   "source": [
    "## Images inputed into Template"
   ]
  },
  {
   "cell_type": "code",
   "execution_count": 8,
   "metadata": {},
   "outputs": [],
   "source": [
    "\n",
    "word_doc_template = \"word_doc_template.docx\"\n",
    "word_doc_w_images_loaded = \"Country_Report.docx\"\n",
    "image_dirname = \"/Users/telmabatista/Documents/Ironhack/Projects/Project3/Project-Week-3-Data-Thieves/your-project/Report\"\n",
    "\n",
    "# Don't want to overwrite your template with the loaded images version.\n",
    "assert word_doc_template != word_doc_w_images_loaded\n",
    "\n",
    "doc = DocxTemplate(word_doc_template)\n",
    "\n",
    "images_to_load = {}\n",
    "\n",
    "for image_filename in os.listdir(image_dirname):\n",
    "    # Remove extension to filename in dict key.\n",
    "    template_varname = image_filename.split('.')[0]\n",
    "    images_to_load[template_varname] = InlineImage(doc,os.path.join(image_dirname, image_filename))\n",
    "\n",
    "doc.render(images_to_load)\n",
    "\n",
    "doc.save(word_doc_w_images_loaded)"
   ]
  },
  {
   "cell_type": "markdown",
   "metadata": {},
   "source": [
    "## Changing Report Name Automatically"
   ]
  },
  {
   "cell_type": "code",
   "execution_count": 9,
   "metadata": {},
   "outputs": [],
   "source": [
    "#Getting country name through country code\n",
    "country_name = ' '.join([str(elem) for elem in df1[\"country\"].unique()]) "
   ]
  },
  {
   "cell_type": "code",
   "execution_count": 10,
   "metadata": {},
   "outputs": [],
   "source": [
    "document = Document('Country_Report.docx')\n",
    "\n",
    "dic = {'Country':country_name}\n",
    "for p in document.paragraphs:\n",
    "    inline = p.runs\n",
    "    for i in range(len(inline)):\n",
    "        text = inline[i].text\n",
    "        if text in dic.keys():\n",
    "            text=text.replace(text,dic[text])\n",
    "            inline[i].text = text\n",
    "\n",
    "document.save('Country_Report.docx')"
   ]
  },
  {
   "cell_type": "markdown",
   "metadata": {},
   "source": [
    "## Converting docx to PDF"
   ]
  },
  {
   "cell_type": "code",
   "execution_count": 11,
   "metadata": {},
   "outputs": [
    {
     "data": {
      "application/vnd.jupyter.widget-view+json": {
       "model_id": "a72c483ee55f47c6ab37c4ec86607027",
       "version_major": 2,
       "version_minor": 0
      },
      "text/plain": [
       "HBox(children=(FloatProgress(value=0.0, max=1.0), HTML(value='')))"
      ]
     },
     "metadata": {},
     "output_type": "display_data"
    }
   ],
   "source": [
    "from docx2pdf import convert\n",
    "\n",
    "convert(\"Country_Report.docx\")"
   ]
  },
  {
   "cell_type": "markdown",
   "metadata": {},
   "source": [
    "## Sending Email with Country Report as Attachment"
   ]
  },
  {
   "cell_type": "code",
   "execution_count": 12,
   "metadata": {},
   "outputs": [],
   "source": [
    "import os\n",
    "import smtplib\n",
    "from email.message import EmailMessage\n",
    "\n",
    "EMAIL_ADDRESS = os.environ.get(\"EMAIL_ADDRESS\")\n",
    "EMAIL_PASSWORD = os.environ.get(\"EMAIL_PASSWORD\")\n",
    "\n",
    "msg = EmailMessage()\n",
    "msg[\"Subject\"] = \"Country Report\"\n",
    "msg[\"From\"] = EMAIL_ADDRESS\n",
    "msg[\"To\"] = email_receiver\n",
    "msg.set_content(\"Hi! You'll find the report attached in this email. Tell me if you need anything else!\")\n",
    "\n",
    "files = [\"Country_Report.pdf\"]\n",
    "\n",
    "for file in files:\n",
    "    with open(file,\"rb\") as f:\n",
    "        file_data = f.read()\n",
    "        file_name = f.name\n",
    "\n",
    "    msg.add_attachment(file_data, maintype=\"application\", subtype=\"octet-stream\", filename=file_name)\n",
    "\n",
    "with smtplib.SMTP_SSL(\"smtp.gmail.com\", 465) as smtp:\n",
    "    smtp.login(EMAIL_ADDRESS,EMAIL_PASSWORD)\n",
    "    smtp.send_message(msg)"
   ]
  }
 ],
 "metadata": {
  "kernelspec": {
   "display_name": "Python 3",
   "language": "python",
   "name": "python3"
  },
  "language_info": {
   "codemirror_mode": {
    "name": "ipython",
    "version": 3
   },
   "file_extension": ".py",
   "mimetype": "text/x-python",
   "name": "python",
   "nbconvert_exporter": "python",
   "pygments_lexer": "ipython3",
   "version": "3.7.4"
  }
 },
 "nbformat": 4,
 "nbformat_minor": 4
}
