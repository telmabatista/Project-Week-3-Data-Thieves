{
 "cells": [
  {
   "cell_type": "code",
   "execution_count": null,
   "metadata": {},
   "outputs": [],
   "source": [
    "import pandas as pd\n",
    "import numpy as np\n",
    "import matplotlib.pyplot as plt\n",
    "import seaborn as sb\n",
    "import math\n",
    "import datetime\n",
    "from docx import Document\n",
    "from docxtpl import DocxTemplate, InlineImage\n",
    "import sys\n",
    "import os\n",
    "from docx.shared import Mm, Inches, Pt"
   ]
  },
  {
   "cell_type": "code",
   "execution_count": null,
   "metadata": {},
   "outputs": [],
   "source": [
    "c = input(\"Input one of the following Country Codes to generate report - US, NZ, MX, GB, IE, CA: \")\n",
    "\n",
    "email_receiver = input(\"Email to send report: \")"
   ]
  },
  {
   "cell_type": "markdown",
   "metadata": {},
   "source": [
    "## Data Visualization"
   ]
  },
  {
   "cell_type": "code",
   "execution_count": null,
   "metadata": {},
   "outputs": [],
   "source": [
    "df = pd.read_csv(\"ticket_df.csv\")\n",
    "\n",
    "df.head()\n",
    "\n",
    "df[\"average_price_eur\"] = df[[\"min_price_eur\",\"max_price_eur\"]].mean(axis=1)\n",
    "\n",
    "df[\"month\"] = pd.DatetimeIndex(df[\"date\"]).month\n",
    "\n",
    "\n",
    "df1 = df[df[\"country_code\"]==c]\n",
    "\n",
    "df1.head()"
   ]
  },
  {
   "cell_type": "code",
   "execution_count": null,
   "metadata": {},
   "outputs": [],
   "source": [
    "f, ax = plt.subplots(figsize=(7,8))\n",
    "ax = sb.barplot(x=\"average_price_eur\",y=\"genre\",data=df1, color=\"yellow\")\n",
    "plt.savefig(\"/Users/telmabatista/Documents/Ironhack/Projects/Project3/Project-Week-3-Data-Thieves/your-project/Report/price_per_genre.png\")"
   ]
  },
  {
   "cell_type": "code",
   "execution_count": null,
   "metadata": {},
   "outputs": [],
   "source": [
    "sb.set(style=\"whitegrid\")\n",
    "ax = sb.countplot(x=\"segment\",data=df1, color=\"yellow\")\n",
    "plt.savefig(\"/Users/telmabatista/Documents/Ironhack/Projects/Project3/Project-Week-3-Data-Thieves/your-project/Report/events_per_segment.png\",bbox_inches=\"tight\")"
   ]
  },
  {
   "cell_type": "code",
   "execution_count": null,
   "metadata": {},
   "outputs": [],
   "source": [
    "sb.set(style=\"whitegrid\")\n",
    "ax = sb.countplot(x=\"segment\", hue=\"date_status\",data=df1, color=\"yellow\")\n",
    "plt.savefig(\"/Users/telmabatista/Documents/Ironhack/Projects/Project3/Project-Week-3-Data-Thieves/your-project/Report/status_per_segment.png\",bbox_inches=\"tight\")"
   ]
  },
  {
   "cell_type": "code",
   "execution_count": null,
   "metadata": {},
   "outputs": [],
   "source": [
    "sb.set(style=\"whitegrid\")\n",
    "ax = sb.countplot(x=\"month\",data=df1, color=\"yellow\")\n",
    "plt.savefig(\"/Users/telmabatista/Documents/Ironhack/Projects/Project3/Project-Week-3-Data-Thieves/your-project/Report/events_per_month.png\",bbox_inches=\"tight\")"
   ]
  },
  {
   "cell_type": "markdown",
   "metadata": {},
   "source": [
    "## Images inputed into Template"
   ]
  },
  {
   "cell_type": "code",
   "execution_count": null,
   "metadata": {},
   "outputs": [],
   "source": [
    "\n",
    "word_doc_template = \"word_doc_template.docx\"\n",
    "word_doc_w_images_loaded = \"Country_Report.docx\"\n",
    "image_dirname = \"/Users/telmabatista/Documents/Ironhack/Projects/Project3/Project-Week-3-Data-Thieves/your-project/Report\"\n",
    "\n",
    "# Don't want to overwrite your template with the loaded images version.\n",
    "assert word_doc_template != word_doc_w_images_loaded\n",
    "\n",
    "doc = DocxTemplate(word_doc_template)\n",
    "\n",
    "images_to_load = {}\n",
    "\n",
    "for image_filename in os.listdir(image_dirname):\n",
    "    # Remove extension to filename in dict key.\n",
    "    template_varname = image_filename.split('.')[0]\n",
    "    images_to_load[template_varname] = InlineImage(doc,os.path.join(image_dirname, image_filename))\n",
    "\n",
    "doc.render(images_to_load)\n",
    "\n",
    "doc.save(word_doc_w_images_loaded)"
   ]
  },
  {
   "cell_type": "markdown",
   "metadata": {},
   "source": [
    "## Changing Report Name Automatically"
   ]
  },
  {
   "cell_type": "code",
   "execution_count": null,
   "metadata": {},
   "outputs": [],
   "source": [
    "#Getting country name through country code\n",
    "country_name = ' '.join([str(elem) for elem in df1[\"country\"].unique()]) "
   ]
  },
  {
   "cell_type": "code",
   "execution_count": null,
   "metadata": {},
   "outputs": [],
   "source": [
    "document = Document('Country_Report.docx')\n",
    "\n",
    "dic = {'Country':country_name}\n",
    "for p in document.paragraphs:\n",
    "    inline = p.runs\n",
    "    for i in range(len(inline)):\n",
    "        text = inline[i].text\n",
    "        if text in dic.keys():\n",
    "            text=text.replace(text,dic[text])\n",
    "            inline[i].text = text\n",
    "\n",
    "document.save('Country_Report.docx')"
   ]
  },
  {
   "cell_type": "markdown",
   "metadata": {},
   "source": [
    "## Converting docx to PDF"
   ]
  },
  {
   "cell_type": "code",
   "execution_count": null,
   "metadata": {},
   "outputs": [],
   "source": [
    "from docx2pdf import convert\n",
    "\n",
    "convert(\"Country_Report.docx\")"
   ]
  },
  {
   "cell_type": "markdown",
   "metadata": {},
   "source": [
    "## Sending Email with Country Report as Attachment"
   ]
  },
  {
   "cell_type": "code",
   "execution_count": null,
   "metadata": {},
   "outputs": [],
   "source": [
    "import os\n",
    "import smtplib\n",
    "from email.message import EmailMessage\n",
    "\n",
    "EMAIL_ADDRESS = os.environ.get(\"EMAIL_ADDRESS\")\n",
    "EMAIL_PASSWORD = os.environ.get(\"EMAIL_PASSWORD\")\n",
    "\n",
    "msg = EmailMessage()\n",
    "msg[\"Subject\"] = \"Country Report\"\n",
    "msg[\"From\"] = EMAIL_ADDRESS\n",
    "msg[\"To\"] = email_receiver\n",
    "msg.set_content(\"Hi! You'll find the report attached in this email. Tell me if you need anything else!\")\n",
    "\n",
    "files = [\"Country_Report.pdf\"]\n",
    "\n",
    "for file in files:\n",
    "    with open(file,\"rb\") as f:\n",
    "        file_data = f.read()\n",
    "        file_name = f.name\n",
    "\n",
    "    msg.add_attachment(file_data, maintype=\"application\", subtype=\"octet-stream\", filename=file_name)\n",
    "\n",
    "with smtplib.SMTP_SSL(\"smtp.gmail.com\", 465) as smtp:\n",
    "    smtp.login(EMAIL_ADDRESS,EMAIL_PASSWORD)\n",
    "    smtp.send_message(msg)"
   ]
  }
 ],
 "metadata": {
  "kernelspec": {
   "display_name": "Python 3",
   "language": "python",
   "name": "python3"
  },
  "language_info": {
   "codemirror_mode": {
    "name": "ipython",
    "version": 3
   },
   "file_extension": ".py",
   "mimetype": "text/x-python",
   "name": "python",
   "nbconvert_exporter": "python",
   "pygments_lexer": "ipython3",
   "version": "3.7.4"
  }
 },
 "nbformat": 4,
 "nbformat_minor": 2
}
