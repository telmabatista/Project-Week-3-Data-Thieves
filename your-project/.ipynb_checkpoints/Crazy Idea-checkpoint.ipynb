{
 "cells": [
  {
   "cell_type": "code",
   "execution_count": 1,
   "metadata": {},
   "outputs": [],
   "source": [
    "import requests\n",
    "import pandas as pd\n",
    "from pandas.io.json import json_normalize\n",
    "import json\n",
    "from flatten_json import flatten"
   ]
  },
  {
   "cell_type": "code",
   "execution_count": 2,
   "metadata": {},
   "outputs": [],
   "source": [
    "key = \"dCGIrduEojNiyFmPFywipXVG1TufINb6\"\n",
    "\n",
    "url = \"https://app.ticketmaster.com/discovery/v2/events\"\n",
    "\n",
    "countries = ['US','AD','AI','AR','AU','AT','AZ','BS','BH','BB','BE','BM','BR','BG','CA','CL','CN',\n",
    "             'CO','CR','HR','CY','CZ','DK','DO','EC','EE','FO','FI','FR','GE','DE','GH','GI','GB',\n",
    "             'GR','HK','HU','IS','IN','IE','IL','IT','JM','JP','KR','LV','LB','LT','LU','MY','MT',\n",
    "             'MX','MC','ME','MA','NL','AN','NZ','ND','NO','PE','PL','PT','RO','RU','LC','SA','RS',\n",
    "             'SG','SK','SI','ZA','ES','SE','CH','TW','TH','TT','TR','UA','AE','UY','VE']\n",
    "\n",
    "results = []\n",
    "for country in countries:\n",
    "    inputs = {\"apikey\" : key,\n",
    "              \"size\" : 200,\n",
    "              \"countryCode\" : country}\n",
    "    r = requests.get(url,inputs)\n",
    "    results.append(r.json())\n",
    "\n"
   ]
  },
  {
   "cell_type": "code",
   "execution_count": 4,
   "metadata": {},
   "outputs": [],
   "source": [
    "with open(\"results.json\",\"w\") as f:\n",
    "    json.dump(results, f)"
   ]
  }
 ],
 "metadata": {
  "kernelspec": {
   "display_name": "Python 3",
   "language": "python",
   "name": "python3"
  },
  "language_info": {
   "codemirror_mode": {
    "name": "ipython",
    "version": 3
   },
   "file_extension": ".py",
   "mimetype": "text/x-python",
   "name": "python",
   "nbconvert_exporter": "python",
   "pygments_lexer": "ipython3",
   "version": "3.7.4"
  }
 },
 "nbformat": 4,
 "nbformat_minor": 4
}
